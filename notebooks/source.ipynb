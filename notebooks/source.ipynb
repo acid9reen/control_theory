{
 "cells": [
  {
   "cell_type": "code",
   "execution_count": null,
   "metadata": {},
   "outputs": [],
   "source": [
    "import numpy as np\n",
    "from matplotlib import pyplot as plt\n",
    "from scipy import integrate\n",
    "\n",
    "from control_theory import utils"
   ]
  },
  {
   "cell_type": "markdown",
   "metadata": {},
   "source": [
    "## Problem parameters"
   ]
  },
  {
   "cell_type": "code",
   "execution_count": null,
   "metadata": {},
   "outputs": [],
   "source": [
    "pend_mass = 0.127\n",
    "cart_mass = 1.206\n",
    "moment_of_inertia = 0.001\n",
    "length = 0.178 * 2\n",
    "K_f = 1.726\n",
    "K_s = 4.487\n",
    "B_c = 5.4\n",
    "B_p = 0.002"
   ]
  },
  {
   "cell_type": "markdown",
   "metadata": {},
   "source": [
    "## Getting A and b for our system"
   ]
  },
  {
   "cell_type": "code",
   "execution_count": null,
   "metadata": {},
   "outputs": [],
   "source": [
    "A_0 = np.array([\n",
    "    [pend_mass + cart_mass, -pend_mass * length],\n",
    "    [-pend_mass * length, moment_of_inertia + pend_mass * length * length]\n",
    "])\n",
    "\n",
    "A_1 = np.array([\n",
    "    [B_c, 0],\n",
    "    [0, B_p]\n",
    "])\n",
    "\n",
    "A_2 = np.array([\n",
    "    [0, 0],\n",
    "    [0, -pend_mass * 9.8 * length]\n",
    "])\n",
    "\n",
    "print(A_0, A_1, A_2, sep='\\n\\n')"
   ]
  },
  {
   "cell_type": "code",
   "execution_count": null,
   "metadata": {},
   "outputs": [],
   "source": [
    "first = -np.linalg.inv(A_0) @ A_2\n",
    "second = -np.linalg.inv(A_0) @ A_1\n",
    "third = np.linalg.inv(A_0) @ np.array([[1], [0]])\n",
    "\n",
    "print(first, second, third, sep='\\n\\n')"
   ]
  },
  {
   "cell_type": "markdown",
   "metadata": {},
   "source": [
    "### Finally we managed to get A and b for our system"
   ]
  },
  {
   "cell_type": "code",
   "execution_count": null,
   "metadata": {},
   "outputs": [],
   "source": [
    "A = np.array([\n",
    "    [0, 0, 1, 0],\n",
    "    [0, 0, 0, 1],\n",
    "    [first[0][0], first[0][1], second[0][0], second[0][1]],\n",
    "    [first[1][0], first[1][1], second[1][0], second[1][1]]\n",
    "])\n",
    "\n",
    "b = np.array([\n",
    "    [0],\n",
    "    [0],\n",
    "    third[0],\n",
    "    third[1]\n",
    "])\n",
    "\n",
    "print(A, b, sep='\\n\\n')"
   ]
  },
  {
   "cell_type": "markdown",
   "metadata": {},
   "source": [
    "## Control synthesis"
   ]
  },
  {
   "cell_type": "markdown",
   "metadata": {},
   "source": [
    "### Let's look at control matrix"
   ]
  },
  {
   "cell_type": "code",
   "execution_count": null,
   "metadata": {},
   "outputs": [],
   "source": [
    "C = np.column_stack([\n",
    "    b,\n",
    "    A @ b,\n",
    "    np.linalg.matrix_power(A, 2) @ b,\n",
    "    np.linalg.matrix_power(A, 3) @ b\n",
    "])\n",
    "\n",
    "C, C.shape"
   ]
  },
  {
   "cell_type": "code",
   "execution_count": null,
   "metadata": {},
   "outputs": [],
   "source": [
    "print(f\"Control matrix rank: {np.linalg.matrix_rank(C)}\")"
   ]
  },
  {
   "cell_type": "code",
   "execution_count": null,
   "metadata": {},
   "outputs": [],
   "source": [
    "A_eigs = np.linalg.eigvals(A)\n",
    "print(f\"Eigs of the A: {A_eigs}\")"
   ]
  },
  {
   "cell_type": "markdown",
   "metadata": {},
   "source": [
    "### Here we get our control"
   ]
  },
  {
   "cell_type": "code",
   "execution_count": null,
   "metadata": {},
   "outputs": [],
   "source": [
    "theta = (\n",
    "    -np.array([0, 0, 0, 1])\n",
    "    @ np.linalg.inv(C)\n",
    "    @ utils.create_char_pol(-1, -2, A_eigs[2], A_eigs[3])(A)\n",
    ")\n",
    "\n",
    "print(f\"Our controll: {theta}\")"
   ]
  },
  {
   "cell_type": "code",
   "execution_count": null,
   "metadata": {},
   "outputs": [],
   "source": [
    "# Before this moment all is identicall to maple"
   ]
  },
  {
   "cell_type": "code",
   "execution_count": null,
   "metadata": {},
   "outputs": [],
   "source": [
    "def system(\n",
    "        t: np.ndarray,\n",
    "        x: np.ndarray,\n",
    "        A_: np.ndarray,\n",
    "        b_: np.ndarray,\n",
    "        theta_: np.ndarray,\n",
    ") -> np.ndarray:\n",
    "\n",
    "    return (A_ + b_ @ theta_) @ x"
   ]
  },
  {
   "cell_type": "code",
   "execution_count": null,
   "metadata": {},
   "outputs": [],
   "source": [
    "start, stop = 0, 5\n",
    "\n",
    "time = np.linspace(start, stop, 300)\n",
    "y_0 = np.array([0, 0.1, 0, 0])\n",
    "\n",
    "sol = integrate.solve_ivp(system, (start, stop), y_0, dense_output=True, args=(A, b.T, theta), method=\"RK45\")"
   ]
  },
  {
   "cell_type": "code",
   "execution_count": null,
   "metadata": {},
   "outputs": [],
   "source": [
    "z = sol.sol(time)"
   ]
  },
  {
   "cell_type": "code",
   "execution_count": null,
   "metadata": {},
   "outputs": [],
   "source": [
    "plt.plot(time, z[0])"
   ]
  },
  {
   "cell_type": "code",
   "execution_count": null,
   "metadata": {},
   "outputs": [],
   "source": [
    "plt.plot(time, z[1])"
   ]
  },
  {
   "cell_type": "code",
   "execution_count": null,
   "metadata": {},
   "outputs": [],
   "source": [
    "plt.plot(time, z[2])"
   ]
  },
  {
   "cell_type": "code",
   "execution_count": null,
   "metadata": {},
   "outputs": [],
   "source": [
    "plt.plot(time, z[3])"
   ]
  },
  {
   "cell_type": "code",
   "execution_count": null,
   "metadata": {},
   "outputs": [],
   "source": []
  },
  {
   "cell_type": "code",
   "execution_count": null,
   "metadata": {},
   "outputs": [],
   "source": []
  },
  {
   "cell_type": "code",
   "execution_count": null,
   "metadata": {},
   "outputs": [],
   "source": []
  }
 ],
 "metadata": {
  "interpreter": {
   "hash": "f914dfa2f065f51c523a6c9459411c9cded158cf701670143ecd842727ecdaca"
  },
  "kernelspec": {
   "display_name": "Python 3.9.7 ('.venv': venv)",
   "language": "python",
   "name": "python3"
  },
  "language_info": {
   "codemirror_mode": {
    "name": "ipython",
    "version": 3
   },
   "file_extension": ".py",
   "mimetype": "text/x-python",
   "name": "python",
   "nbconvert_exporter": "python",
   "pygments_lexer": "ipython3",
   "version": "3.9.7"
  },
  "orig_nbformat": 4
 },
 "nbformat": 4,
 "nbformat_minor": 2
}
