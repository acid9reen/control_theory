{
 "cells": [
  {
   "cell_type": "code",
   "execution_count": null,
   "metadata": {},
   "outputs": [],
   "source": [
    "import numpy as np\n",
    "from matplotlib import pyplot as plt\n",
    "from scipy import integrate\n",
    "\n",
    "from control_theory import utils\n",
    "from control_theory import systems"
   ]
  },
  {
   "cell_type": "code",
   "execution_count": null,
   "metadata": {},
   "outputs": [],
   "source": [
    "pend = systems.PendODESystem()"
   ]
  },
  {
   "cell_type": "code",
   "execution_count": null,
   "metadata": {},
   "outputs": [],
   "source": [
    "theta = utils.get_control(pend.A, pend.b)"
   ]
  },
  {
   "cell_type": "code",
   "execution_count": null,
   "metadata": {},
   "outputs": [],
   "source": [
    "start, stop = 0, 10\n",
    "\n",
    "time = np.linspace(start, stop, 300)\n",
    "y_0 = np.array([0, 0.1, 0, 0])\n",
    "\n",
    "sol = integrate.solve_ivp(\n",
    "    systems.linear_system,\n",
    "    (start, stop),\n",
    "    y_0,\n",
    "    dense_output=True,\n",
    "    args=(pend.A, pend.b, theta),\n",
    "    method=\"RK45\"\n",
    ")"
   ]
  },
  {
   "cell_type": "code",
   "execution_count": null,
   "metadata": {},
   "outputs": [],
   "source": [
    "z = sol.sol(time)"
   ]
  },
  {
   "cell_type": "code",
   "execution_count": null,
   "metadata": {},
   "outputs": [],
   "source": [
    "y_labels = (r\"x\", r\"\\phi\", r\"\\dot x\", r\"\\dot \\phi\")\n",
    "# plt.rcParams['text.usetex'] = True # uncomment if you have latex\n",
    "\n",
    "fig, axs = plt.subplots(4, 1)\n",
    "fig.set_size_inches(10, 15)\n",
    "\n",
    "for i in range(4):\n",
    "    axs[i].plot(time, z[i])\n",
    "    axs[i].set_xlabel('time')\n",
    "    axs[i].set_ylabel(y_labels[i])\n",
    "    axs[i].grid(True)\n",
    "\n",
    "fig.tight_layout()\n",
    "# fig.savefig('out.png', dpi=300, facecolor='white') # uncomment to save high-res picture\n",
    "plt.show()"
   ]
  }
 ],
 "metadata": {
  "interpreter": {
   "hash": "f914dfa2f065f51c523a6c9459411c9cded158cf701670143ecd842727ecdaca"
  },
  "kernelspec": {
   "display_name": "Python 3.9.7 ('.venv': venv)",
   "language": "python",
   "name": "python3"
  },
  "language_info": {
   "codemirror_mode": {
    "name": "ipython",
    "version": 3
   },
   "file_extension": ".py",
   "mimetype": "text/x-python",
   "name": "python",
   "nbconvert_exporter": "python",
   "pygments_lexer": "ipython3",
   "version": "3.9.7"
  },
  "orig_nbformat": 4
 },
 "nbformat": 4,
 "nbformat_minor": 2
}
