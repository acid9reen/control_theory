{
 "cells": [
  {
   "cell_type": "code",
   "execution_count": null,
   "metadata": {},
   "outputs": [],
   "source": [
    "import numpy as np\n",
    "from matplotlib import pyplot as plt\n",
    "from scipy import integrate\n",
    "\n",
    "from control_theory import utils\n",
    "from control_theory.systems import PendODESystem"
   ]
  },
  {
   "cell_type": "code",
   "execution_count": null,
   "metadata": {},
   "outputs": [],
   "source": [
    "pend = PendODESystem()"
   ]
  },
  {
   "cell_type": "markdown",
   "metadata": {},
   "source": [
    "## Regulator synthesis"
   ]
  },
  {
   "cell_type": "markdown",
   "metadata": {},
   "source": [
    "### Let's look at control matrix"
   ]
  },
  {
   "cell_type": "code",
   "execution_count": null,
   "metadata": {},
   "outputs": [],
   "source": [
    "C = np.column_stack([\n",
    "    pend.b,\n",
    "    pend.A @ pend.b,\n",
    "    np.linalg.matrix_power(pend.A, 2) @ pend.b,\n",
    "    np.linalg.matrix_power(pend.A, 3) @ pend.b\n",
    "])\n",
    "\n",
    "C, C.shape"
   ]
  },
  {
   "cell_type": "code",
   "execution_count": null,
   "metadata": {},
   "outputs": [],
   "source": [
    "print(f\"Control matrix rank: {np.linalg.matrix_rank(C)}\")"
   ]
  },
  {
   "cell_type": "code",
   "execution_count": null,
   "metadata": {},
   "outputs": [],
   "source": [
    "A_eigs = np.linalg.eigvals(pend.A)\n",
    "print(f\"Eigs of the A: {A_eigs}\")"
   ]
  },
  {
   "cell_type": "markdown",
   "metadata": {},
   "source": [
    "### Here we get our control"
   ]
  },
  {
   "cell_type": "code",
   "execution_count": null,
   "metadata": {},
   "outputs": [],
   "source": [
    "theta = (\n",
    "    -np.array([[0, 0, 0, 1]])\n",
    "    @ np.linalg.inv(C)\n",
    "    @ utils.create_char_pol(-1, -2, -7.5, -4)(pend.A)\n",
    ")\n",
    "\n",
    "print(f\"Our control: {theta}\")"
   ]
  },
  {
   "cell_type": "code",
   "execution_count": null,
   "metadata": {},
   "outputs": [],
   "source": [
    "def system(\n",
    "        t: np.ndarray,\n",
    "        x: np.ndarray,\n",
    "        A: np.ndarray,\n",
    "        b: np.ndarray,\n",
    "        theta: np.ndarray,\n",
    ") -> np.ndarray:\n",
    "\n",
    "    return (A + b @ theta) @ x"
   ]
  },
  {
   "cell_type": "code",
   "execution_count": null,
   "metadata": {},
   "outputs": [],
   "source": [
    "start, stop = 0, 10\n",
    "\n",
    "time = np.linspace(start, stop, 300)\n",
    "y_0 = np.array([0, 0.1, 0, 0])\n",
    "\n",
    "sol = integrate.solve_ivp(system, (start, stop), y_0, dense_output=True, args=(pend.A, pend.b, theta), method=\"RK45\")"
   ]
  },
  {
   "cell_type": "code",
   "execution_count": null,
   "metadata": {},
   "outputs": [],
   "source": [
    "z = sol.sol(time)"
   ]
  },
  {
   "cell_type": "code",
   "execution_count": null,
   "metadata": {},
   "outputs": [],
   "source": [
    "y_labels = (r\"x\", r\"\\phi\", r\"\\dot x\", r\"\\dot \\phi\")\n",
    "# plt.rcParams['text.usetex'] = True # uncomment if you have latex\n",
    "\n",
    "fig, axs = plt.subplots(4, 1)\n",
    "fig.set_size_inches(10, 15)\n",
    "\n",
    "for i in range(4):\n",
    "    axs[i].plot(time, z[i])\n",
    "    axs[i].set_xlabel('time')\n",
    "    axs[i].set_ylabel(y_labels[i])\n",
    "    axs[i].grid(True)\n",
    "\n",
    "fig.tight_layout()\n",
    "# fig.savefig('out.png', dpi=300, facecolor='white') # uncomment to save high-res picture\n",
    "plt.show()"
   ]
  },
  {
   "cell_type": "code",
   "execution_count": null,
   "metadata": {},
   "outputs": [],
   "source": []
  }
 ],
 "metadata": {
  "interpreter": {
   "hash": "f914dfa2f065f51c523a6c9459411c9cded158cf701670143ecd842727ecdaca"
  },
  "kernelspec": {
   "display_name": "Python 3.9.7 ('.venv': venv)",
   "language": "python",
   "name": "python3"
  },
  "language_info": {
   "codemirror_mode": {
    "name": "ipython",
    "version": 3
   },
   "file_extension": ".py",
   "mimetype": "text/x-python",
   "name": "python",
   "nbconvert_exporter": "python",
   "pygments_lexer": "ipython3",
   "version": "3.9.7"
  },
  "orig_nbformat": 4
 },
 "nbformat": 4,
 "nbformat_minor": 2
}
