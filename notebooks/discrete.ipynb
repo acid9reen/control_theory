{
 "cells": [
  {
   "cell_type": "code",
   "execution_count": null,
   "metadata": {},
   "outputs": [],
   "source": [
    "from typing import Optional\n",
    "\n",
    "from scipy import integrate\n",
    "from scipy.linalg import expm\n",
    "import numpy as np\n",
    "from matplotlib import pyplot as plt\n",
    "\n",
    "from control_theory import systems, utils"
   ]
  },
  {
   "cell_type": "code",
   "execution_count": null,
   "metadata": {},
   "outputs": [],
   "source": [
    "pend = systems.PendODESystem()"
   ]
  },
  {
   "cell_type": "code",
   "execution_count": null,
   "metadata": {},
   "outputs": [],
   "source": [
    "h = 0.1\n",
    "\n",
    "A_d = expm(pend.A * h)\n",
    "\n",
    "print(A_d)"
   ]
  },
  {
   "cell_type": "code",
   "execution_count": null,
   "metadata": {},
   "outputs": [],
   "source": [
    "def f(x):\n",
    "    return expm(pend.A * x) @ pend.b"
   ]
  },
  {
   "cell_type": "code",
   "execution_count": null,
   "metadata": {},
   "outputs": [],
   "source": [
    "b_d = integrate.quad_vec(f, 0, h)[0]\n",
    "\n",
    "print(b_d)"
   ]
  },
  {
   "cell_type": "code",
   "execution_count": null,
   "metadata": {},
   "outputs": [],
   "source": [
    "C = np.column_stack([\n",
    "    b_d,\n",
    "    A_d @ b_d,\n",
    "    np.linalg.matrix_power(A_d, 2) @ b_d,\n",
    "    np.linalg.matrix_power(A_d, 3) @ b_d\n",
    "])\n",
    "\n",
    "print(C)\n",
    "print(C.shape)"
   ]
  },
  {
   "cell_type": "code",
   "execution_count": null,
   "metadata": {},
   "outputs": [],
   "source": [
    "print(np.linalg.matrix_rank(C))"
   ]
  },
  {
   "cell_type": "code",
   "execution_count": null,
   "metadata": {},
   "outputs": [],
   "source": [
    "print(np.linalg.eigvals(C))"
   ]
  },
  {
   "cell_type": "code",
   "execution_count": null,
   "metadata": {},
   "outputs": [],
   "source": [
    "theta = (\n",
    "    -np.array([[0, 0, 0, 1]])\n",
    "    @ np.linalg.inv(C)\n",
    "    @ utils.create_char_pol(0.7, -0.9, 0.9, 0.7)(A_d)\n",
    ")"
   ]
  },
  {
   "cell_type": "code",
   "execution_count": null,
   "metadata": {},
   "outputs": [],
   "source": [
    "start, stop = 0, 10\n",
    "\n",
    "\n",
    "time = np.linspace(start, stop, 300)\n",
    "y_0 = np.array([0, 0.1, 0, 0])\n",
    "\n",
    "sol = integrate.solve_ivp(\n",
    "    systems.linear_system,\n",
    "    (start, stop),\n",
    "    y_0,\n",
    "    dense_output=True,\n",
    "    args=(pend.A, pend.b, theta),\n",
    "    method=\"RK45\"\n",
    ")"
   ]
  },
  {
   "cell_type": "code",
   "execution_count": null,
   "metadata": {},
   "outputs": [],
   "source": [
    "z = sol.sol(time)"
   ]
  },
  {
   "cell_type": "code",
   "execution_count": null,
   "metadata": {},
   "outputs": [],
   "source": [
    "y_labels = (r\"x\", r\"\\phi\", r\"\\dot x\", r\"\\dot \\phi\")\n",
    "# plt.rcParams['text.usetex'] = True # uncomment if you have latex\n",
    "\n",
    "fig, axs = plt.subplots(4, 1)\n",
    "fig.set_size_inches(10, 15)\n",
    "\n",
    "for i in range(4):\n",
    "    axs[i].plot(time, z[i])\n",
    "    axs[i].set_xlabel('time')\n",
    "    axs[i].set_ylabel(y_labels[i])\n",
    "    axs[i].grid(True)\n",
    "\n",
    "fig.tight_layout()\n",
    "# fig.savefig('discrete.png', dpi=300, facecolor='white') # uncomment to save high-res picture\n",
    "plt.show()"
   ]
  },
  {
   "cell_type": "code",
   "execution_count": null,
   "metadata": {},
   "outputs": [],
   "source": [
    "start, stop = 0, 10\n",
    "n = 100\n",
    "eps = 0.01\n",
    "\n",
    "# Согласовываем шаг интегрирования и шаг с которым брали интеграл для получения b_d\n",
    "# Ну то есть проверяем))0\n",
    "assert h - eps <= (stop - start) / n <= h + eps\n",
    "\n",
    "time = np.linspace(start, stop, n)\n",
    "y_0 = np.array([0, 0.1, 0, 0])\n",
    "\n",
    "xs = []\n",
    "\n",
    "for i in range(len(time) - 1):\n",
    "    begin, end = time[i], time[i + 1]\n",
    "    sol = integrate.solve_ivp(systems.linear_system, (begin, end), y_0, args=(pend.A, pend.b, theta), method=\"RK45\", t_eval=[end])\n",
    "    xs.append(sol.y.ravel())\n",
    "    y_0 = sol.y.ravel()\n",
    "\n",
    "xs = np.asarray(xs)"
   ]
  },
  {
   "cell_type": "code",
   "execution_count": null,
   "metadata": {},
   "outputs": [],
   "source": [
    "y_labels = (r\"x\", r\"\\phi\", r\"\\dot x\", r\"\\dot \\phi\")\n",
    "# plt.rcParams['text.usetex'] = True # uncomment if you have latex\n",
    "\n",
    "fig, axs = plt.subplots(4, 1)\n",
    "fig.set_size_inches(10, 15)\n",
    "\n",
    "for i in range(4):\n",
    "    axs[i].plot(time[:-1], xs[:, i])\n",
    "    axs[i].set_xlabel('time')\n",
    "    axs[i].set_ylabel(y_labels[i])\n",
    "    axs[i].grid(True)\n",
    "\n",
    "fig.tight_layout()\n",
    "# fig.savefig('out_discrete_2.png', dpi=300, facecolor='white') # uncomment to save high-res picture\n",
    "plt.show()"
   ]
  },
  {
   "cell_type": "code",
   "execution_count": null,
   "metadata": {},
   "outputs": [],
   "source": []
  },
  {
   "cell_type": "markdown",
   "metadata": {},
   "source": [
    "## Вариант в"
   ]
  },
  {
   "cell_type": "code",
   "execution_count": null,
   "metadata": {},
   "outputs": [],
   "source": [
    "h = 0.1\n",
    "delta = 0.001 * h\n",
    "\n",
    "A_d = expm(pend.A * h)"
   ]
  },
  {
   "cell_type": "code",
   "execution_count": null,
   "metadata": {},
   "outputs": [],
   "source": [
    "def f_c(x):\n",
    "    return expm(pend.A * x) @ pend.b"
   ]
  },
  {
   "cell_type": "code",
   "execution_count": null,
   "metadata": {},
   "outputs": [],
   "source": [
    "b_d = integrate.quad_vec(f_c, 0, delta)[0]\n",
    "\n",
    "print(b_d)"
   ]
  },
  {
   "cell_type": "code",
   "execution_count": null,
   "metadata": {},
   "outputs": [],
   "source": [
    "C = np.column_stack([\n",
    "    b_d,\n",
    "    A_d @ b_d,\n",
    "    np.linalg.matrix_power(A_d, 2) @ b_d,\n",
    "    np.linalg.matrix_power(A_d, 3) @ b_d\n",
    "])\n",
    "\n",
    "print(C)\n",
    "print(C.shape)"
   ]
  },
  {
   "cell_type": "code",
   "execution_count": null,
   "metadata": {},
   "outputs": [],
   "source": [
    "print(np.linalg.matrix_rank(C))\n",
    "print(np.linalg.eigvals(C))"
   ]
  },
  {
   "cell_type": "code",
   "execution_count": null,
   "metadata": {},
   "outputs": [],
   "source": [
    "theta = (\n",
    "    -np.array([[0, 0, 0, 1]])\n",
    "    @ np.linalg.inv(C)\n",
    "    @ utils.create_char_pol(0.7, -0.9, 0.9, 0.7)(A_d)\n",
    ")\n",
    "\n",
    "print(theta)"
   ]
  },
  {
   "cell_type": "code",
   "execution_count": null,
   "metadata": {},
   "outputs": [],
   "source": [
    "def system(\n",
    "        t: np.ndarray,\n",
    "        x: np.ndarray,\n",
    "        A: np.ndarray,\n",
    "        b: np.ndarray,\n",
    "        theta: np.ndarray,\n",
    "        control_enabled: bool,\n",
    "        x_0: Optional[np.ndarray] = None,\n",
    ") -> np.ndarray | int:\n",
    "    if x_0 is None:\n",
    "        x_0 = x\n",
    "\n",
    "    if control_enabled:\n",
    "        return A @ x + b @ theta @ x_0\n",
    "\n",
    "    return A @ x"
   ]
  },
  {
   "cell_type": "code",
   "execution_count": null,
   "metadata": {},
   "outputs": [],
   "source": [
    "start, stop = 0, 10\n",
    "t = start\n",
    "eps = 0.01\n",
    "\n",
    "y_0 = np.array([0, 0.1, 0, 0])\n",
    "\n",
    "tmp_le_h = delta\n",
    "\n",
    "ts = []\n",
    "ys = []\n",
    "\n",
    "control_enabled = True\n",
    "while t < stop:\n",
    "    if h - eps <= tmp_le_h:\n",
    "        tmp_le_h -= h\n",
    "        control_enabled = True\n",
    "\n",
    "    sol = integrate.solve_ivp(\n",
    "        system,\n",
    "        (t, t + delta), y_0,\n",
    "        args=(pend.A, pend.b, theta, control_enabled),\n",
    "        method=\"RK45\",\n",
    "        t_eval=[t + delta]\n",
    "    )\n",
    "\n",
    "    control_enabled = False\n",
    "    t += delta\n",
    "    tmp_le_h += delta\n",
    "\n",
    "    ts.append(t)\n",
    "    ys.append(sol.y.ravel())\n",
    "    y_0 = sol.y.ravel()\n",
    "\n",
    "ys = np.asarray(ys)"
   ]
  },
  {
   "cell_type": "code",
   "execution_count": null,
   "metadata": {},
   "outputs": [],
   "source": [
    "y_labels = (r\"x\", r\"\\phi\", r\"\\dot x\", r\"\\dot \\phi\")\n",
    "# plt.rcParams['text.usetex'] = True # uncomment if you have latex\n",
    "\n",
    "fig, axs = plt.subplots(4, 1)\n",
    "fig.set_size_inches(10, 15)\n",
    "\n",
    "for i in range(4):\n",
    "    axs[i].plot(ts, ys[:, i])\n",
    "    axs[i].set_xlabel('time')\n",
    "    axs[i].set_ylabel(y_labels[i])\n",
    "    axs[i].grid(True)\n",
    "\n",
    "fig.tight_layout()\n",
    "fig.savefig('out_discrete_2.png', dpi=300, facecolor='white') # uncomment to save high-res picture\n",
    "plt.show()"
   ]
  },
  {
   "cell_type": "code",
   "execution_count": null,
   "metadata": {},
   "outputs": [],
   "source": []
  },
  {
   "cell_type": "code",
   "execution_count": null,
   "metadata": {},
   "outputs": [],
   "source": []
  }
 ],
 "metadata": {
  "interpreter": {
   "hash": "f914dfa2f065f51c523a6c9459411c9cded158cf701670143ecd842727ecdaca"
  },
  "kernelspec": {
   "display_name": "Python 3.10.2 ('.venv': venv)",
   "language": "python",
   "name": "python3"
  },
  "language_info": {
   "codemirror_mode": {
    "name": "ipython",
    "version": 3
   },
   "file_extension": ".py",
   "mimetype": "text/x-python",
   "name": "python",
   "nbconvert_exporter": "python",
   "pygments_lexer": "ipython3",
   "version": "3.10.2"
  },
  "orig_nbformat": 4
 },
 "nbformat": 4,
 "nbformat_minor": 2
}
