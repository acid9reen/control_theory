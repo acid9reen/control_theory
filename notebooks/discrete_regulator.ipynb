{
 "cells": [
  {
   "cell_type": "code",
   "execution_count": null,
   "metadata": {},
   "outputs": [],
   "source": [
    "import numpy as np\n",
    "from matplotlib import pyplot as plt\n",
    "from scipy import integrate\n",
    "\n",
    "from control_theory import utils\n",
    "from control_theory.systems import PendODESystem, linear_system"
   ]
  },
  {
   "cell_type": "code",
   "execution_count": null,
   "metadata": {},
   "outputs": [],
   "source": [
    "pend = PendODESystem()"
   ]
  },
  {
   "cell_type": "code",
   "execution_count": null,
   "metadata": {},
   "outputs": [],
   "source": [
    "theta = utils.get_control(pend.A, pend.b)"
   ]
  },
  {
   "cell_type": "code",
   "execution_count": null,
   "metadata": {},
   "outputs": [],
   "source": [
    "start, stop = 0, 10\n",
    "n = 50\n",
    "time = np.linspace(start, stop, n)\n",
    "y_0 = np.array([0, 0.1, 0, 0])\n",
    "\n",
    "xs = []\n",
    "\n",
    "for i in range(len(time) - 1):\n",
    "    begin, end = time[i], time[i + 1]\n",
    "    sol = integrate.solve_ivp(linear_system, (begin, end), y_0, args=(pend.A, pend.b, theta, y_0), method=\"RK45\", t_eval=[end])\n",
    "    xs.append(sol.y.ravel())\n",
    "    y_0 = sol.y.ravel()\n",
    "\n",
    "xs = np.asarray(xs)"
   ]
  },
  {
   "cell_type": "code",
   "execution_count": null,
   "metadata": {},
   "outputs": [],
   "source": [
    "y_labels = (r\"x\", r\"\\phi\", r\"\\dot x\", r\"\\dot \\phi\")\n",
    "# plt.rcParams['text.usetex'] = True # uncomment if you have latex\n",
    "\n",
    "fig, axs = plt.subplots(4, 1)\n",
    "fig.set_size_inches(10, 15)\n",
    "\n",
    "for i in range(4):\n",
    "    axs[i].plot(time[:-1], xs[:, i])\n",
    "    axs[i].set_xlabel('time')\n",
    "    axs[i].set_ylabel(y_labels[i])\n",
    "    axs[i].grid(True)\n",
    "\n",
    "fig.tight_layout()\n",
    "# fig.savefig('out_discrete_2.png', dpi=300, facecolor='white') # uncomment to save high-res picture\n",
    "plt.show()"
   ]
  },
  {
   "cell_type": "code",
   "execution_count": null,
   "metadata": {},
   "outputs": [],
   "source": [
    "eps = 0.000001\n",
    "\n",
    "xs_1 = np.vstack((xs[0], xs[1]))\n",
    "time_1 = np.vstack((time[0], time[1] - eps))\n",
    "\n",
    "for i in range(1, len(xs) - 1):\n",
    "    xs_1 = np.vstack((xs_1, xs[i], xs[i + 1]))\n",
    "\n",
    "for i in range(1, len(time) - 1):\n",
    "    time_1 = np.vstack((time_1, time[i], time[i + 1] - eps))"
   ]
  },
  {
   "cell_type": "code",
   "execution_count": null,
   "metadata": {},
   "outputs": [],
   "source": [
    "y_labels = (r\"x\", r\"\\phi\", r\"\\dot x\", r\"\\dot \\phi\")\n",
    "# plt.rcParams['text.usetex'] = True # uncomment if you have latex\n",
    "\n",
    "fig, axs = plt.subplots(4, 1)\n",
    "fig.set_size_inches(10, 15)\n",
    "\n",
    "for i in range(4):\n",
    "    axs[i].plot(time[:-1], xs[:, i])\n",
    "    axs[i].set_xlabel('time')\n",
    "    axs[i].set_ylabel(y_labels[i])\n",
    "    axs[i].grid(True)\n",
    "\n",
    "fig.tight_layout()\n",
    "# fig.savefig('out_discrete_1.png', dpi=300, facecolor='white') # uncomment to save high-res picture\n",
    "plt.show()"
   ]
  }
 ],
 "metadata": {
  "interpreter": {
   "hash": "f914dfa2f065f51c523a6c9459411c9cded158cf701670143ecd842727ecdaca"
  },
  "kernelspec": {
   "display_name": "Python 3.9.7 ('.venv': venv)",
   "language": "python",
   "name": "python3"
  },
  "language_info": {
   "codemirror_mode": {
    "name": "ipython",
    "version": 3
   },
   "file_extension": ".py",
   "mimetype": "text/x-python",
   "name": "python",
   "nbconvert_exporter": "python",
   "pygments_lexer": "ipython3",
   "version": "3.9.7"
  },
  "orig_nbformat": 4
 },
 "nbformat": 4,
 "nbformat_minor": 2
}
