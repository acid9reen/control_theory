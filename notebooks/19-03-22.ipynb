{
 "cells": [
  {
   "cell_type": "code",
   "execution_count": null,
   "metadata": {},
   "outputs": [],
   "source": [
    "import numpy as np\n",
    "from matplotlib import pyplot as plt\n",
    "from scipy.linalg import expm\n",
    "from scipy import integrate\n",
    "\n",
    "from control_theory import utils"
   ]
  },
  {
   "cell_type": "code",
   "execution_count": null,
   "metadata": {},
   "outputs": [],
   "source": [
    "A = np.array([\n",
    "    [0, 1],\n",
    "    [1, 0]\n",
    "])\n",
    "\n",
    "b = np.array([\n",
    "    [0],\n",
    "    [1]\n",
    "])"
   ]
  },
  {
   "cell_type": "code",
   "execution_count": null,
   "metadata": {},
   "outputs": [],
   "source": [
    "h = 0.1\n",
    "\n",
    "A_d = expm(A * h)\n",
    "b_d = A_d @ b"
   ]
  },
  {
   "cell_type": "code",
   "execution_count": null,
   "metadata": {},
   "outputs": [],
   "source": [
    "print(A_d, b_d, sep='\\n\\n')"
   ]
  },
  {
   "cell_type": "code",
   "execution_count": null,
   "metadata": {},
   "outputs": [],
   "source": [
    "C = np.column_stack([\n",
    "    b_d,\n",
    "    A_d @ b_d,\n",
    "])\n",
    "\n",
    "print(C)\n",
    "print(C.shape)"
   ]
  },
  {
   "cell_type": "code",
   "execution_count": null,
   "metadata": {},
   "outputs": [],
   "source": [
    "print(np.linalg.matrix_rank(C))\n",
    "print(np.linalg.eigvals(C))"
   ]
  },
  {
   "cell_type": "code",
   "execution_count": null,
   "metadata": {},
   "outputs": [],
   "source": [
    "theta = (\n",
    "    -np.array([[0, 1]])\n",
    "    @ np.linalg.inv(C)\n",
    "    @ utils.create_char_pol(-0.08, 0.8)(A_d)\n",
    ")\n",
    "\n",
    "print(theta)"
   ]
  },
  {
   "cell_type": "code",
   "execution_count": null,
   "metadata": {},
   "outputs": [],
   "source": [
    "def system(t, x, A: np.ndarray) -> np.ndarray:\n",
    "    return A @ x"
   ]
  },
  {
   "cell_type": "markdown",
   "metadata": {},
   "source": [
    "# Кусочно постоянное управление"
   ]
  },
  {
   "cell_type": "code",
   "execution_count": null,
   "metadata": {},
   "outputs": [],
   "source": [
    "A = np.array([\n",
    "    [0, 1],\n",
    "    [1, 0]\n",
    "])\n",
    "\n",
    "b = np.array([\n",
    "    [0],\n",
    "    [1]\n",
    "])"
   ]
  },
  {
   "cell_type": "code",
   "execution_count": null,
   "metadata": {},
   "outputs": [],
   "source": [
    "h = 0.1\n",
    "delta = 0.007\n",
    "\n",
    "A_d = expm(A * h)"
   ]
  },
  {
   "cell_type": "code",
   "execution_count": null,
   "metadata": {},
   "outputs": [],
   "source": [
    "def f_c(x):\n",
    "    return expm(A * x) @ b"
   ]
  },
  {
   "cell_type": "code",
   "execution_count": null,
   "metadata": {},
   "outputs": [],
   "source": [
    "b_d = integrate.quad_vec(f_c, 0, delta)[0]\n",
    "\n",
    "print(b_d)"
   ]
  },
  {
   "cell_type": "code",
   "execution_count": null,
   "metadata": {},
   "outputs": [],
   "source": [
    "C = np.column_stack([\n",
    "    b_d,\n",
    "    A_d @ b_d,\n",
    "])\n",
    "\n",
    "print(C)\n",
    "print(C.shape)"
   ]
  },
  {
   "cell_type": "code",
   "execution_count": null,
   "metadata": {},
   "outputs": [],
   "source": [
    "print(np.linalg.matrix_rank(C))\n",
    "print(np.linalg.eigvals(C))"
   ]
  },
  {
   "cell_type": "code",
   "execution_count": null,
   "metadata": {},
   "outputs": [],
   "source": [
    "theta = (\n",
    "    -np.array([[0, 1]])\n",
    "    @ np.linalg.inv(C)\n",
    "    @ utils.create_char_pol(-0.2, 0.9)(A_d)\n",
    ")\n",
    "\n",
    "print(theta)"
   ]
  },
  {
   "cell_type": "code",
   "execution_count": null,
   "metadata": {},
   "outputs": [],
   "source": [
    "def system(\n",
    "        t: np.ndarray,\n",
    "        x: np.ndarray,\n",
    "        A: np.ndarray,\n",
    "        b: np.ndarray,\n",
    "        theta: np.ndarray,\n",
    "        control_enabled: bool,\n",
    "        x_0 = None,\n",
    ") -> np.ndarray | int:\n",
    "    if x_0 is None:\n",
    "        x_0 = x\n",
    "\n",
    "    if control_enabled:\n",
    "        return A @ x + b @ theta @ x_0\n",
    "\n",
    "    return A @ x"
   ]
  },
  {
   "cell_type": "code",
   "execution_count": null,
   "metadata": {},
   "outputs": [],
   "source": [
    "start, stop = 0, 5\n",
    "t = start\n",
    "eps = 0.1 * delta\n",
    "\n",
    "y_0 = np.array([0, 0.5])\n",
    "\n",
    "tmp_le_h = delta\n",
    "\n",
    "ts = [0]\n",
    "ys = [np.array(y_0)]\n",
    "\n",
    "control_enabled = True\n",
    "while t < stop:\n",
    "    if h - eps <= tmp_le_h:\n",
    "        tmp_le_h -= h\n",
    "        control_enabled = True\n",
    "\n",
    "    sol = integrate.solve_ivp(\n",
    "        system,\n",
    "        (t, t + delta), y_0,\n",
    "        args=(A, b, theta, control_enabled),\n",
    "        method=\"RK45\",\n",
    "        t_eval=[t + delta]\n",
    "    )\n",
    "\n",
    "    control_enabled = False\n",
    "    t += delta\n",
    "    tmp_le_h += delta\n",
    "\n",
    "    ts.append(t)\n",
    "    ys.append(sol.y.ravel())\n",
    "    y_0 = sol.y.ravel()\n",
    "\n",
    "ys = np.asarray(ys)"
   ]
  },
  {
   "cell_type": "code",
   "execution_count": null,
   "metadata": {},
   "outputs": [],
   "source": [
    "fig = plt.plot(ys[:, 0], ys[:, 1], alpha=1)"
   ]
  }
 ],
 "metadata": {
  "interpreter": {
   "hash": "7d8bb7f38fd42799f28c9e3a24fee607374d2fb8a1d91b96063668afd202ab65"
  },
  "kernelspec": {
   "display_name": "Python 3.10.2 ('.venv': venv)",
   "language": "python",
   "name": "python3"
  },
  "language_info": {
   "codemirror_mode": {
    "name": "ipython",
    "version": 3
   },
   "file_extension": ".py",
   "mimetype": "text/x-python",
   "name": "python",
   "nbconvert_exporter": "python",
   "pygments_lexer": "ipython3",
   "version": "3.10.2"
  },
  "orig_nbformat": 4
 },
 "nbformat": 4,
 "nbformat_minor": 2
}
